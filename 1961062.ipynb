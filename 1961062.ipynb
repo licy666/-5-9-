{
 "cells": [
  {
   "cell_type": "code",
   "execution_count": 1,
   "metadata": {
    "collapsed": false
   },
   "outputs": [
    {
     "name": "stderr",
     "output_type": "stream",
     "text": [
      "/opt/conda/envs/python35-paddle120-env/lib/python3.7/site-packages/paddle/fluid/layers/utils.py:26: DeprecationWarning: `np.int` is a deprecated alias for the builtin `int`. To silence this warning, use `int` by itself. Doing this will not modify any behavior and is safe. When replacing `np.int`, you may wish to use e.g. `np.int64` or `np.int32` to specify the precision. If you wish to review your current use, check the release note link for additional information.\n",
      "Deprecated in NumPy 1.20; for more details and guidance: https://numpy.org/devdocs/release/1.20.0-notes.html#deprecations\n",
      "  def convert_to_list(value, n, name, dtype=np.int):\n"
     ]
    },
    {
     "name": "stdout",
     "output_type": "stream",
     "text": [
      "2021-05-21 13:38:49 [INFO]\t63320 samples in file train_list.txt\n",
      "2021-05-21 13:38:49 [INFO]\t3332 samples in file valid_list.txt\n"
     ]
    },
    {
     "name": "stderr",
     "output_type": "stream",
     "text": [
      "/opt/conda/envs/python35-paddle120-env/lib/python3.7/site-packages/paddle/fluid/layers/math_op_patch.py:298: UserWarning: /opt/conda/envs/python35-paddle120-env/lib/python3.7/site-packages/paddlex/cv/nets/xception.py:316\n",
      "The behavior of expression A + B has been unified with elementwise_add(X, Y, axis=-1) from Paddle 2.0. If your code works well in the older versions but crashes in this version, try to use elementwise_add(X, Y, axis=0) instead of A + B. This transitional warning will be dropped in the future.\n",
      "  op_type, op_type, EXPRESSION_MAP[method_name]))\n",
      "/opt/conda/envs/python35-paddle120-env/lib/python3.7/site-packages/paddle/fluid/framework.py:687: DeprecationWarning: `np.bool` is a deprecated alias for the builtin `bool`. To silence this warning, use `bool` by itself. Doing this will not modify any behavior and is safe. If you specifically wanted the numpy scalar type, use `np.bool_` here.\n",
      "Deprecated in NumPy 1.20; for more details and guidance: https://numpy.org/devdocs/release/1.20.0-notes.html#deprecations\n",
      "  elif dtype == np.bool:\n",
      "/opt/conda/envs/python35-paddle120-env/lib/python3.7/site-packages/paddle/fluid/layers/math_op_patch.py:298: UserWarning: /opt/conda/envs/python35-paddle120-env/lib/python3.7/site-packages/paddlex/cv/nets/segmentation/model_utils/loss.py:74\n",
      "The behavior of expression A * B has been unified with elementwise_mul(X, Y, axis=-1) from Paddle 2.0. If your code works well in the older versions but crashes in this version, try to use elementwise_mul(X, Y, axis=0) instead of A * B. This transitional warning will be dropped in the future.\n",
      "  op_type, op_type, EXPRESSION_MAP[method_name]))\n",
      "2021-05-21 13:38:51,974 - INFO - If regularizer of a Parameter has been set by 'fluid.ParamAttr' or 'fluid.WeightNormParamAttr' already. The Regularization[L2Decay, regularization_coeff=0.000040] in Optimizer will not take effect, and it will only be applied to other Parameters!\n"
     ]
    },
    {
     "name": "stdout",
     "output_type": "stream",
     "text": [
      "2021-05-21 13:38:58 [INFO]\tLoad pretrain weights from work/output/deeplab/best_model.\n",
      "2021-05-21 13:39:00 [INFO]\tThere are 732 varaibles in work/output/deeplab/best_model are loaded.\n",
      "2021-05-21 13:40:25 [INFO]\t[TRAIN] Epoch=1/10, Step=200/1978, loss=0.541217, lr=0.001586, time_each_step=0.39s, eta=2:14:47\n",
      "2021-05-21 13:41:43 [INFO]\t[TRAIN] Epoch=1/10, Step=400/1978, loss=0.491579, lr=0.001571, time_each_step=0.39s, eta=2:13:24\n",
      "2021-05-21 13:43:02 [INFO]\t[TRAIN] Epoch=1/10, Step=600/1978, loss=0.353769, lr=0.001556, time_each_step=0.39s, eta=2:12:0\n",
      "2021-05-21 13:44:21 [INFO]\t[TRAIN] Epoch=1/10, Step=800/1978, loss=0.245873, lr=0.001542, time_each_step=0.39s, eta=2:11:4\n",
      "2021-05-21 13:45:39 [INFO]\t[TRAIN] Epoch=1/10, Step=1000/1978, loss=0.356098, lr=0.001527, time_each_step=0.39s, eta=2:9:33\n",
      "2021-05-21 13:46:58 [INFO]\t[TRAIN] Epoch=1/10, Step=1200/1978, loss=0.362123, lr=0.001512, time_each_step=0.4s, eta=2:9:29\n",
      "2021-05-21 13:48:16 [INFO]\t[TRAIN] Epoch=1/10, Step=1400/1978, loss=0.533718, lr=0.001498, time_each_step=0.39s, eta=2:7:1\n",
      "2021-05-21 13:49:34 [INFO]\t[TRAIN] Epoch=1/10, Step=1600/1978, loss=0.480623, lr=0.001483, time_each_step=0.39s, eta=2:5:38\n",
      "2021-05-21 13:50:53 [INFO]\t[TRAIN] Epoch=1/10, Step=1800/1978, loss=0.494473, lr=0.001468, time_each_step=0.39s, eta=2:4:19\n",
      "2021-05-21 13:52:03 [INFO]\t[TRAIN] Epoch 1 finished, loss=0.436749, lr=0.001528 .\n",
      "2021-05-21 13:52:03 [INFO]\tStart to evaluating(total_samples=3332, total_steps=105)...\n"
     ]
    },
    {
     "name": "stderr",
     "output_type": "stream",
     "text": [
      "  0%|          | 0/105 [00:00<?, ?it/s]share_vars_from is set, scope is ignored.\n",
      "100%|██████████| 105/105 [00:22<00:00,  4.60it/s]\n"
     ]
    },
    {
     "name": "stdout",
     "output_type": "stream",
     "text": [
      "2021-05-21 13:52:25 [INFO]\t[EVAL] Finished, Epoch=1, miou=0.647803, category_iou=[0.66025263 0.78940819 0.62669412 0.51485658], oacc=0.797441, category_acc=[0.81186521 0.89230958 0.79328232 0.63182258], kappa=0.724625, category_F1-score=[0.79536406 0.88231204 0.77051255 0.679743  ] .\n",
      "2021-05-21 13:52:30 [INFO]\tModel saved in work/output/deeplab/best_model.\n",
      "2021-05-21 13:52:34 [INFO]\tModel saved in work/output/deeplab/epoch_1.\n",
      "2021-05-21 13:52:34 [INFO]\tCurrent evaluated best model in eval_dataset is epoch_1, miou=0.6478028816527109\n",
      "2021-05-21 13:52:48 [INFO]\t[TRAIN] Epoch=2/10, Step=22/1978, loss=0.304315, lr=0.001454, time_each_step=0.46s, eta=2:3:57\n",
      "2021-05-21 13:54:07 [INFO]\t[TRAIN] Epoch=2/10, Step=222/1978, loss=0.348865, lr=0.001439, time_each_step=0.39s, eta=2:0:36\n",
      "2021-05-21 13:55:25 [INFO]\t[TRAIN] Epoch=2/10, Step=422/1978, loss=0.492586, lr=0.001424, time_each_step=0.4s, eta=1:59:24\n",
      "2021-05-21 13:56:44 [INFO]\t[TRAIN] Epoch=2/10, Step=622/1978, loss=0.273084, lr=0.001409, time_each_step=0.39s, eta=1:57:57\n",
      "2021-05-21 13:58:02 [INFO]\t[TRAIN] Epoch=2/10, Step=822/1978, loss=0.342256, lr=0.001395, time_each_step=0.39s, eta=1:56:39\n",
      "2021-05-21 13:59:21 [INFO]\t[TRAIN] Epoch=2/10, Step=1022/1978, loss=0.474517, lr=0.00138, time_each_step=0.39s, eta=1:55:21\n",
      "2021-05-21 14:00:39 [INFO]\t[TRAIN] Epoch=2/10, Step=1222/1978, loss=0.23194, lr=0.001365, time_each_step=0.39s, eta=1:54:3\n",
      "2021-05-21 14:01:58 [INFO]\t[TRAIN] Epoch=2/10, Step=1422/1978, loss=0.319416, lr=0.00135, time_each_step=0.39s, eta=1:52:45\n",
      "2021-05-21 14:03:16 [INFO]\t[TRAIN] Epoch=2/10, Step=1622/1978, loss=0.494773, lr=0.001335, time_each_step=0.39s, eta=1:51:26\n",
      "2021-05-21 14:04:35 [INFO]\t[TRAIN] Epoch=2/10, Step=1822/1978, loss=0.620964, lr=0.001321, time_each_step=0.39s, eta=1:50:7\n",
      "2021-05-21 14:05:36 [INFO]\t[TRAIN] Epoch 2 finished, loss=0.405972, lr=0.001382 .\n",
      "2021-05-21 14:05:36 [INFO]\tStart to evaluating(total_samples=3332, total_steps=105)...\n"
     ]
    },
    {
     "name": "stderr",
     "output_type": "stream",
     "text": [
      "100%|██████████| 105/105 [00:22<00:00,  4.58it/s]\n"
     ]
    },
    {
     "name": "stdout",
     "output_type": "stream",
     "text": [
      "2021-05-21 14:05:59 [INFO]\t[EVAL] Finished, Epoch=2, miou=0.662754, category_iou=[0.67224666 0.7997361  0.64183204 0.53720148], oacc=0.809181, category_acc=[0.83328546 0.88157963 0.78346242 0.67375643], kappa=0.740032, category_F1-score=[0.80400419 0.88872596 0.7818486  0.69893438] .\n",
      "2021-05-21 14:06:03 [INFO]\tModel saved in work/output/deeplab/best_model.\n",
      "2021-05-21 14:06:07 [INFO]\tModel saved in work/output/deeplab/epoch_2.\n",
      "2021-05-21 14:06:07 [INFO]\tCurrent evaluated best model in eval_dataset is epoch_2, miou=0.6627540703884456\n",
      "2021-05-21 14:06:30 [INFO]\t[TRAIN] Epoch=3/10, Step=44/1978, loss=0.251354, lr=0.001306, time_each_step=0.41s, eta=1:48:32\n",
      "2021-05-21 14:07:48 [INFO]\t[TRAIN] Epoch=3/10, Step=244/1978, loss=0.461357, lr=0.001291, time_each_step=0.39s, eta=1:46:43\n",
      "2021-05-21 14:09:07 [INFO]\t[TRAIN] Epoch=3/10, Step=444/1978, loss=0.273534, lr=0.001276, time_each_step=0.39s, eta=1:45:22\n",
      "2021-05-21 14:10:26 [INFO]\t[TRAIN] Epoch=3/10, Step=644/1978, loss=0.337417, lr=0.001261, time_each_step=0.39s, eta=1:44:6\n",
      "2021-05-21 14:11:44 [INFO]\t[TRAIN] Epoch=3/10, Step=844/1978, loss=0.382632, lr=0.001246, time_each_step=0.39s, eta=1:42:45\n",
      "2021-05-21 14:13:03 [INFO]\t[TRAIN] Epoch=3/10, Step=1044/1978, loss=0.485977, lr=0.001231, time_each_step=0.39s, eta=1:41:28\n",
      "2021-05-21 14:14:22 [INFO]\t[TRAIN] Epoch=3/10, Step=1244/1978, loss=0.406467, lr=0.001216, time_each_step=0.4s, eta=1:40:11\n",
      "2021-05-21 14:15:40 [INFO]\t[TRAIN] Epoch=3/10, Step=1444/1978, loss=0.266844, lr=0.001201, time_each_step=0.39s, eta=1:38:50\n",
      "2021-05-21 14:16:59 [INFO]\t[TRAIN] Epoch=3/10, Step=1644/1978, loss=0.507497, lr=0.001186, time_each_step=0.39s, eta=1:37:32\n",
      "2021-05-21 14:18:17 [INFO]\t[TRAIN] Epoch=3/10, Step=1844/1978, loss=0.332735, lr=0.001171, time_each_step=0.39s, eta=1:36:13\n",
      "2021-05-21 14:19:10 [INFO]\t[TRAIN] Epoch 3 finished, loss=0.372402, lr=0.001235 .\n",
      "2021-05-21 14:19:10 [INFO]\tStart to evaluating(total_samples=3332, total_steps=105)...\n"
     ]
    },
    {
     "name": "stderr",
     "output_type": "stream",
     "text": [
      "100%|██████████| 105/105 [00:22<00:00,  4.57it/s]\n"
     ]
    },
    {
     "name": "stdout",
     "output_type": "stream",
     "text": [
      "2021-05-21 14:19:33 [INFO]\t[EVAL] Finished, Epoch=3, miou=0.647304, category_iou=[0.64310983 0.78164816 0.63805889 0.52640058], oacc=0.796822, category_acc=[0.83389298 0.88530542 0.73276125 0.669281  ], kappa=0.724208, category_F1-score=[0.78279591 0.87744391 0.77904267 0.68972796] .\n",
      "2021-05-21 14:19:37 [INFO]\tModel saved in work/output/deeplab/epoch_3.\n",
      "2021-05-21 14:19:37 [INFO]\tCurrent evaluated best model in eval_dataset is epoch_2, miou=0.6627540703884456\n",
      "2021-05-21 14:20:09 [INFO]\t[TRAIN] Epoch=4/10, Step=66/1978, loss=0.217483, lr=0.001156, time_each_step=0.39s, eta=1:34:0\n",
      "2021-05-21 14:21:27 [INFO]\t[TRAIN] Epoch=4/10, Step=266/1978, loss=0.265615, lr=0.001141, time_each_step=0.39s, eta=1:32:38\n",
      "2021-05-21 14:22:46 [INFO]\t[TRAIN] Epoch=4/10, Step=466/1978, loss=0.364848, lr=0.001126, time_each_step=0.4s, eta=1:31:26\n",
      "2021-05-21 14:24:04 [INFO]\t[TRAIN] Epoch=4/10, Step=666/1978, loss=0.332956, lr=0.00111, time_each_step=0.39s, eta=1:30:3\n",
      "2021-05-21 14:25:23 [INFO]\t[TRAIN] Epoch=4/10, Step=866/1978, loss=0.457735, lr=0.001095, time_each_step=0.39s, eta=1:28:44\n",
      "2021-05-21 14:26:42 [INFO]\t[TRAIN] Epoch=4/10, Step=1066/1978, loss=0.234922, lr=0.00108, time_each_step=0.4s, eta=1:27:28\n",
      "2021-05-21 14:28:00 [INFO]\t[TRAIN] Epoch=4/10, Step=1266/1978, loss=0.614182, lr=0.001065, time_each_step=0.39s, eta=1:26:8\n",
      "2021-05-21 14:29:19 [INFO]\t[TRAIN] Epoch=4/10, Step=1466/1978, loss=0.420791, lr=0.00105, time_each_step=0.39s, eta=1:24:49\n",
      "2021-05-21 14:30:38 [INFO]\t[TRAIN] Epoch=4/10, Step=1666/1978, loss=0.301019, lr=0.001034, time_each_step=0.39s, eta=1:23:31\n",
      "2021-05-21 14:31:56 [INFO]\t[TRAIN] Epoch=4/10, Step=1866/1978, loss=0.39296, lr=0.001019, time_each_step=0.39s, eta=1:22:12\n",
      "2021-05-21 14:32:40 [INFO]\t[TRAIN] Epoch 4 finished, loss=0.344682, lr=0.001086 .\n",
      "2021-05-21 14:32:40 [INFO]\tStart to evaluating(total_samples=3332, total_steps=105)...\n"
     ]
    },
    {
     "name": "stderr",
     "output_type": "stream",
     "text": [
      "100%|██████████| 105/105 [00:24<00:00,  4.35it/s]\n"
     ]
    },
    {
     "name": "stdout",
     "output_type": "stream",
     "text": [
      "2021-05-21 14:33:04 [INFO]\t[EVAL] Finished, Epoch=4, miou=0.663493, category_iou=[0.67292543 0.79933034 0.64749124 0.53422381], oacc=0.807061, category_acc=[0.84193156 0.917975   0.77322902 0.63554339], kappa=0.738821, category_F1-score=[0.80448945 0.88847537 0.786033   0.69640923] .\n",
      "2021-05-21 14:33:08 [INFO]\tModel saved in work/output/deeplab/best_model.\n",
      "2021-05-21 14:33:13 [INFO]\tModel saved in work/output/deeplab/epoch_4.\n",
      "2021-05-21 14:33:13 [INFO]\tCurrent evaluated best model in eval_dataset is epoch_4, miou=0.6634927081141272\n",
      "2021-05-21 14:33:56 [INFO]\t[TRAIN] Epoch=5/10, Step=88/1978, loss=0.680391, lr=0.001004, time_each_step=0.39s, eta=1:20:51\n",
      "2021-05-21 14:35:14 [INFO]\t[TRAIN] Epoch=5/10, Step=288/1978, loss=0.346625, lr=0.000988, time_each_step=0.39s, eta=1:19:33\n",
      "2021-05-21 14:36:33 [INFO]\t[TRAIN] Epoch=5/10, Step=488/1978, loss=0.348565, lr=0.000973, time_each_step=0.39s, eta=1:18:15\n",
      "2021-05-21 14:37:51 [INFO]\t[TRAIN] Epoch=5/10, Step=688/1978, loss=0.438614, lr=0.000958, time_each_step=0.39s, eta=1:16:55\n",
      "2021-05-21 14:39:10 [INFO]\t[TRAIN] Epoch=5/10, Step=888/1978, loss=0.32815, lr=0.000942, time_each_step=0.39s, eta=1:15:36\n",
      "2021-05-21 14:40:29 [INFO]\t[TRAIN] Epoch=5/10, Step=1088/1978, loss=0.578324, lr=0.000927, time_each_step=0.39s, eta=1:14:19\n",
      "2021-05-21 14:41:47 [INFO]\t[TRAIN] Epoch=5/10, Step=1288/1978, loss=0.372044, lr=0.000911, time_each_step=0.39s, eta=1:13:0\n",
      "2021-05-21 14:43:06 [INFO]\t[TRAIN] Epoch=5/10, Step=1488/1978, loss=0.307643, lr=0.000896, time_each_step=0.39s, eta=1:11:42\n",
      "2021-05-21 14:44:24 [INFO]\t[TRAIN] Epoch=5/10, Step=1688/1978, loss=0.209926, lr=0.00088, time_each_step=0.39s, eta=1:10:23\n",
      "2021-05-21 14:45:43 [INFO]\t[TRAIN] Epoch=5/10, Step=1888/1978, loss=0.292951, lr=0.000865, time_each_step=0.39s, eta=1:9:5\n",
      "2021-05-21 14:46:18 [INFO]\t[TRAIN] Epoch 5 finished, loss=0.316878, lr=0.000934 .\n",
      "2021-05-21 14:46:18 [INFO]\tStart to evaluating(total_samples=3332, total_steps=105)...\n"
     ]
    },
    {
     "name": "stderr",
     "output_type": "stream",
     "text": [
      "100%|██████████| 105/105 [00:23<00:00,  4.55it/s]\n"
     ]
    },
    {
     "name": "stdout",
     "output_type": "stream",
     "text": [
      "2021-05-21 14:46:41 [INFO]\t[EVAL] Finished, Epoch=5, miou=0.677452, category_iou=[0.68405888 0.80339939 0.65889398 0.56345499], oacc=0.818941, category_acc=[0.85687105 0.88786846 0.75609463 0.71323998], kappa=0.753656, category_F1-score=[0.81239307 0.89098332 0.79437745 0.72078185] .\n",
      "2021-05-21 14:46:46 [INFO]\tModel saved in work/output/deeplab/best_model.\n",
      "2021-05-21 14:46:50 [INFO]\tModel saved in work/output/deeplab/epoch_5.\n",
      "2021-05-21 14:46:50 [INFO]\tCurrent evaluated best model in eval_dataset is epoch_5, miou=0.6774518100513861\n",
      "2021-05-21 14:47:45 [INFO]\t[TRAIN] Epoch=6/10, Step=110/1978, loss=0.369311, lr=0.000849, time_each_step=0.39s, eta=1:7:14\n",
      "2021-05-21 14:49:03 [INFO]\t[TRAIN] Epoch=6/10, Step=310/1978, loss=0.36726, lr=0.000833, time_each_step=0.39s, eta=1:5:54\n",
      "2021-05-21 14:50:22 [INFO]\t[TRAIN] Epoch=6/10, Step=510/1978, loss=0.39333, lr=0.000818, time_each_step=0.39s, eta=1:4:36\n",
      "2021-05-21 14:51:40 [INFO]\t[TRAIN] Epoch=6/10, Step=710/1978, loss=0.21035, lr=0.000802, time_each_step=0.39s, eta=1:3:17\n",
      "2021-05-21 14:52:59 [INFO]\t[TRAIN] Epoch=6/10, Step=910/1978, loss=0.189103, lr=0.000786, time_each_step=0.39s, eta=1:2:0\n",
      "2021-05-21 14:54:18 [INFO]\t[TRAIN] Epoch=6/10, Step=1110/1978, loss=0.229974, lr=0.00077, time_each_step=0.39s, eta=1:0:41\n",
      "2021-05-21 14:55:36 [INFO]\t[TRAIN] Epoch=6/10, Step=1310/1978, loss=0.278267, lr=0.000755, time_each_step=0.39s, eta=0:59:22\n",
      "2021-05-21 14:56:55 [INFO]\t[TRAIN] Epoch=6/10, Step=1510/1978, loss=0.33554, lr=0.000739, time_each_step=0.39s, eta=0:58:3\n",
      "2021-05-21 14:58:13 [INFO]\t[TRAIN] Epoch=6/10, Step=1710/1978, loss=0.266948, lr=0.000723, time_each_step=0.39s, eta=0:56:45\n",
      "2021-05-21 14:59:32 [INFO]\t[TRAIN] Epoch=6/10, Step=1910/1978, loss=0.275834, lr=0.000707, time_each_step=0.39s, eta=0:55:26\n",
      "2021-05-21 14:59:59 [INFO]\t[TRAIN] Epoch 6 finished, loss=0.294105, lr=0.00078 .\n",
      "2021-05-21 14:59:59 [INFO]\tStart to evaluating(total_samples=3332, total_steps=105)...\n"
     ]
    },
    {
     "name": "stderr",
     "output_type": "stream",
     "text": [
      "100%|██████████| 105/105 [00:22<00:00,  4.60it/s]\n"
     ]
    },
    {
     "name": "stdout",
     "output_type": "stream",
     "text": [
      "2021-05-21 15:00:22 [INFO]\t[EVAL] Finished, Epoch=6, miou=0.680894, category_iou=[0.68457765 0.80897026 0.66576358 0.56426429], oacc=0.821218, category_acc=[0.83537669 0.89785456 0.77402116 0.71388253], kappa=0.756659, category_F1-score=[0.8127588  0.89439863 0.79934942 0.72144368] .\n",
      "2021-05-21 15:00:26 [INFO]\tModel saved in work/output/deeplab/best_model.\n",
      "2021-05-21 15:00:30 [INFO]\tModel saved in work/output/deeplab/epoch_6.\n",
      "2021-05-21 15:00:30 [INFO]\tCurrent evaluated best model in eval_dataset is epoch_6, miou=0.6808939441995137\n",
      "2021-05-21 15:01:27 [INFO]\t[TRAIN] Epoch=7/10, Step=132/1978, loss=0.286988, lr=0.000691, time_each_step=0.39s, eta=0:53:36\n",
      "2021-05-21 15:02:46 [INFO]\t[TRAIN] Epoch=7/10, Step=332/1978, loss=0.226848, lr=0.000675, time_each_step=0.39s, eta=0:52:20\n",
      "2021-05-21 15:04:04 [INFO]\t[TRAIN] Epoch=7/10, Step=532/1978, loss=0.438707, lr=0.000659, time_each_step=0.39s, eta=0:51:0\n",
      "2021-05-21 15:05:23 [INFO]\t[TRAIN] Epoch=7/10, Step=732/1978, loss=0.27574, lr=0.000643, time_each_step=0.39s, eta=0:49:40\n",
      "2021-05-21 15:06:42 [INFO]\t[TRAIN] Epoch=7/10, Step=932/1978, loss=0.279726, lr=0.000627, time_each_step=0.39s, eta=0:48:23\n",
      "2021-05-21 15:08:00 [INFO]\t[TRAIN] Epoch=7/10, Step=1132/1978, loss=0.248941, lr=0.00061, time_each_step=0.39s, eta=0:47:4\n",
      "2021-05-21 15:09:19 [INFO]\t[TRAIN] Epoch=7/10, Step=1332/1978, loss=0.18877, lr=0.000594, time_each_step=0.39s, eta=0:45:46\n",
      "2021-05-21 15:10:38 [INFO]\t[TRAIN] Epoch=7/10, Step=1532/1978, loss=0.194963, lr=0.000578, time_each_step=0.39s, eta=0:44:27\n",
      "2021-05-21 15:11:56 [INFO]\t[TRAIN] Epoch=7/10, Step=1732/1978, loss=0.230206, lr=0.000562, time_each_step=0.39s, eta=0:43:9\n",
      "2021-05-21 15:13:15 [INFO]\t[TRAIN] Epoch=7/10, Step=1932/1978, loss=0.349292, lr=0.000545, time_each_step=0.39s, eta=0:41:50\n",
      "2021-05-21 15:13:33 [INFO]\t[TRAIN] Epoch 7 finished, loss=0.277496, lr=0.000622 .\n",
      "2021-05-21 15:13:33 [INFO]\tStart to evaluating(total_samples=3332, total_steps=105)...\n"
     ]
    },
    {
     "name": "stderr",
     "output_type": "stream",
     "text": [
      "100%|██████████| 105/105 [00:23<00:00,  4.52it/s]\n"
     ]
    },
    {
     "name": "stdout",
     "output_type": "stream",
     "text": [
      "2021-05-21 15:13:56 [INFO]\t[EVAL] Finished, Epoch=7, miou=0.67722, category_iou=[0.68357578 0.80922394 0.66541578 0.55066622], oacc=0.818898, category_acc=[0.8339259  0.89858696 0.77621597 0.70025401], kappa=0.753519, category_F1-score=[0.81205229 0.89455365 0.79909869 0.71023179] .\n",
      "2021-05-21 15:14:01 [INFO]\tModel saved in work/output/deeplab/epoch_7.\n",
      "2021-05-21 15:14:01 [INFO]\tCurrent evaluated best model in eval_dataset is epoch_6, miou=0.6808939441995137\n",
      "2021-05-21 15:15:06 [INFO]\t[TRAIN] Epoch=8/10, Step=154/1978, loss=0.215539, lr=0.000529, time_each_step=0.39s, eta=0:39:24\n",
      "2021-05-21 15:16:25 [INFO]\t[TRAIN] Epoch=8/10, Step=354/1978, loss=0.160019, lr=0.000512, time_each_step=0.39s, eta=0:38:7\n",
      "2021-05-21 15:17:44 [INFO]\t[TRAIN] Epoch=8/10, Step=554/1978, loss=0.230159, lr=0.000496, time_each_step=0.39s, eta=0:36:47\n",
      "2021-05-21 15:19:02 [INFO]\t[TRAIN] Epoch=8/10, Step=754/1978, loss=0.212808, lr=0.000479, time_each_step=0.39s, eta=0:35:30\n",
      "2021-05-21 15:20:21 [INFO]\t[TRAIN] Epoch=8/10, Step=954/1978, loss=0.26238, lr=0.000462, time_each_step=0.39s, eta=0:34:10\n",
      "2021-05-21 15:21:40 [INFO]\t[TRAIN] Epoch=8/10, Step=1154/1978, loss=0.177675, lr=0.000446, time_each_step=0.39s, eta=0:32:52\n",
      "2021-05-21 15:22:58 [INFO]\t[TRAIN] Epoch=8/10, Step=1354/1978, loss=0.284283, lr=0.000429, time_each_step=0.39s, eta=0:31:34\n",
      "2021-05-21 15:24:17 [INFO]\t[TRAIN] Epoch=8/10, Step=1554/1978, loss=0.092925, lr=0.000412, time_each_step=0.39s, eta=0:30:14\n",
      "2021-05-21 15:25:36 [INFO]\t[TRAIN] Epoch=8/10, Step=1754/1978, loss=0.124304, lr=0.000395, time_each_step=0.39s, eta=0:28:56\n",
      "2021-05-21 15:26:54 [INFO]\t[TRAIN] Epoch=8/10, Step=1954/1978, loss=0.272854, lr=0.000378, time_each_step=0.39s, eta=0:27:37\n",
      "2021-05-21 15:27:04 [INFO]\t[TRAIN] Epoch 8 finished, loss=0.260196, lr=0.000459 .\n",
      "2021-05-21 15:27:04 [INFO]\tStart to evaluating(total_samples=3332, total_steps=105)...\n"
     ]
    },
    {
     "name": "stderr",
     "output_type": "stream",
     "text": [
      "100%|██████████| 105/105 [00:22<00:00,  4.58it/s]\n"
     ]
    },
    {
     "name": "stdout",
     "output_type": "stream",
     "text": [
      "2021-05-21 15:27:27 [INFO]\t[EVAL] Finished, Epoch=8, miou=0.681326, category_iou=[0.68949654 0.80421138 0.66638533 0.56520981], oacc=0.821487, category_acc=[0.8407592  0.89394665 0.77047881 0.71831817], kappa=0.757008, category_F1-score=[0.81621539 0.89148244 0.79979741 0.72221603] .\n",
      "2021-05-21 15:27:31 [INFO]\tModel saved in work/output/deeplab/best_model.\n",
      "2021-05-21 15:27:35 [INFO]\tModel saved in work/output/deeplab/epoch_8.\n",
      "2021-05-21 15:27:35 [INFO]\tCurrent evaluated best model in eval_dataset is epoch_8, miou=0.6813257667778143\n",
      "2021-05-21 15:28:50 [INFO]\t[TRAIN] Epoch=9/10, Step=176/1978, loss=0.176232, lr=0.000361, time_each_step=0.39s, eta=0:25:54\n",
      "2021-05-21 15:30:08 [INFO]\t[TRAIN] Epoch=9/10, Step=376/1978, loss=0.315171, lr=0.000344, time_each_step=0.39s, eta=0:24:34\n",
      "2021-05-21 15:31:27 [INFO]\t[TRAIN] Epoch=9/10, Step=576/1978, loss=0.166887, lr=0.000326, time_each_step=0.39s, eta=0:23:15\n",
      "2021-05-21 15:32:46 [INFO]\t[TRAIN] Epoch=9/10, Step=776/1978, loss=0.317807, lr=0.000309, time_each_step=0.4s, eta=0:22:4\n",
      "2021-05-21 15:34:04 [INFO]\t[TRAIN] Epoch=9/10, Step=976/1978, loss=0.221166, lr=0.000291, time_each_step=0.39s, eta=0:20:38\n",
      "2021-05-21 15:35:23 [INFO]\t[TRAIN] Epoch=9/10, Step=1176/1978, loss=0.14196, lr=0.000274, time_each_step=0.39s, eta=0:19:20\n",
      "2021-05-21 15:36:41 [INFO]\t[TRAIN] Epoch=9/10, Step=1376/1978, loss=0.359244, lr=0.000256, time_each_step=0.39s, eta=0:18:2\n",
      "2021-05-21 15:38:00 [INFO]\t[TRAIN] Epoch=9/10, Step=1576/1978, loss=0.217278, lr=0.000238, time_each_step=0.39s, eta=0:16:44\n",
      "2021-05-21 15:39:19 [INFO]\t[TRAIN] Epoch=9/10, Step=1776/1978, loss=0.169421, lr=0.00022, time_each_step=0.39s, eta=0:15:25\n",
      "2021-05-21 15:40:37 [INFO]\t[TRAIN] Epoch=9/10, Step=1976/1978, loss=0.100253, lr=0.000202, time_each_step=0.39s, eta=0:14:6\n",
      "2021-05-21 15:40:38 [INFO]\t[TRAIN] Epoch 9 finished, loss=0.247198, lr=0.00029 .\n",
      "2021-05-21 15:40:38 [INFO]\tStart to evaluating(total_samples=3332, total_steps=105)...\n"
     ]
    },
    {
     "name": "stderr",
     "output_type": "stream",
     "text": [
      "100%|██████████| 105/105 [00:23<00:00,  4.54it/s]\n"
     ]
    },
    {
     "name": "stdout",
     "output_type": "stream",
     "text": [
      "2021-05-21 15:41:01 [INFO]\t[EVAL] Finished, Epoch=9, miou=0.68556, category_iou=[0.69549976 0.80906998 0.67056025 0.56711032], oacc=0.824843, category_acc=[0.83176894 0.89217583 0.79209496 0.72316845], kappa=0.76118, category_F1-score=[0.82040679 0.89445957 0.80279685 0.72376567] .\n",
      "2021-05-21 15:41:05 [INFO]\tModel saved in work/output/deeplab/best_model.\n",
      "2021-05-21 15:41:09 [INFO]\tModel saved in work/output/deeplab/epoch_9.\n",
      "2021-05-21 15:41:09 [INFO]\tCurrent evaluated best model in eval_dataset is epoch_9, miou=0.6855600800396153\n",
      "2021-05-21 15:42:33 [INFO]\t[TRAIN] Epoch=10/10, Step=198/1978, loss=0.260095, lr=0.000183, time_each_step=0.39s, eta=0:12:10\n",
      "2021-05-21 15:43:51 [INFO]\t[TRAIN] Epoch=10/10, Step=398/1978, loss=0.166212, lr=0.000165, time_each_step=0.39s, eta=0:10:50\n",
      "2021-05-21 15:45:10 [INFO]\t[TRAIN] Epoch=10/10, Step=598/1978, loss=0.281432, lr=0.000146, time_each_step=0.39s, eta=0:9:33\n",
      "2021-05-21 15:46:29 [INFO]\t[TRAIN] Epoch=10/10, Step=798/1978, loss=0.149483, lr=0.000127, time_each_step=0.39s, eta=0:8:15\n",
      "2021-05-21 15:47:47 [INFO]\t[TRAIN] Epoch=10/10, Step=998/1978, loss=0.236707, lr=0.000107, time_each_step=0.39s, eta=0:6:55\n",
      "2021-05-21 15:49:06 [INFO]\t[TRAIN] Epoch=10/10, Step=1198/1978, loss=0.388631, lr=8.7e-05, time_each_step=0.39s, eta=0:5:37\n",
      "2021-05-21 15:50:24 [INFO]\t[TRAIN] Epoch=10/10, Step=1398/1978, loss=0.279582, lr=6.7e-05, time_each_step=0.4s, eta=0:4:21\n",
      "2021-05-21 15:51:43 [INFO]\t[TRAIN] Epoch=10/10, Step=1598/1978, loss=0.209021, lr=4.6e-05, time_each_step=0.39s, eta=0:3:0\n",
      "2021-05-21 15:53:02 [INFO]\t[TRAIN] Epoch=10/10, Step=1798/1978, loss=0.192019, lr=2.3e-05, time_each_step=0.39s, eta=0:1:42\n",
      "2021-05-21 15:54:12 [INFO]\t[TRAIN] Epoch 10 finished, loss=0.240362, lr=0.000106 .\n",
      "2021-05-21 15:54:12 [INFO]\tStart to evaluating(total_samples=3332, total_steps=105)...\n"
     ]
    },
    {
     "name": "stderr",
     "output_type": "stream",
     "text": [
      "100%|██████████| 105/105 [00:23<00:00,  4.52it/s]\n"
     ]
    },
    {
     "name": "stdout",
     "output_type": "stream",
     "text": [
      "2021-05-21 15:54:35 [INFO]\t[EVAL] Finished, Epoch=10, miou=0.689498, category_iou=[0.70179479 0.8098497  0.67362632 0.57272045], oacc=0.827298, category_acc=[0.84237554 0.8930642  0.79202232 0.72172886], kappa=0.764659, category_F1-score=[0.82477017 0.89493586 0.80499011 0.72831818] .\n",
      "2021-05-21 15:54:40 [INFO]\tModel saved in work/output/deeplab/best_model.\n",
      "2021-05-21 15:54:44 [INFO]\tModel saved in work/output/deeplab/epoch_10.\n",
      "2021-05-21 15:54:44 [INFO]\tCurrent evaluated best model in eval_dataset is epoch_10, miou=0.6894978151027245\n",
      "2021-05-21 15:54:47 [INFO]\tModel[DeepLabv3p] loaded.\n",
      "2021-05-21 15:54:47 [INFO]\tStart to evaluating(total_samples=3332, total_steps=3332)...\n"
     ]
    },
    {
     "name": "stderr",
     "output_type": "stream",
     "text": [
      "100%|██████████| 3332/3332 [00:53<00:00, 62.78it/s]\n"
     ]
    },
    {
     "data": {
      "text/plain": [
       "OrderedDict([('miou', 0.6894978151027245),\n",
       "             ('category_iou',\n",
       "              array([0.70179479, 0.8098497 , 0.67362632, 0.57272045])),\n",
       "             ('oacc', 0.8272980828757897),\n",
       "             ('category_acc',\n",
       "              array([0.84237554, 0.8930642 , 0.79202232, 0.72172886])),\n",
       "             ('kappa', 0.7646587134915591),\n",
       "             ('category_F1-score',\n",
       "              array([0.82477017, 0.89493586, 0.80499011, 0.72831818]))])"
      ]
     },
     "execution_count": 1,
     "metadata": {},
     "output_type": "execute_result"
    }
   ],
   "source": [
    "########################################\r\n",
    "########################################\r\n",
    "########################################\r\n",
    "########################################\r\n",
    "##Design by LCY\r\n",
    "\r\n",
    "!unzip -q data/data80164/train_and_label.zip\r\n",
    "!unzip -q data/data80164/img_test.zip\r\n",
    "\r\n",
    "!pip install paddlex -i https://mirror.baidu.com/pypi/simple\r\n",
    "!pip install imgaug -i https://mirror.baidu.com/pypi/simple\r\n",
    "import matplotlib\r\n",
    "import os\r\n",
    "import paddlex as pdx\r\n",
    "import numpy as np\r\n",
    "from paddlex.seg import transforms\r\n",
    "import imgaug.augmenters as iaa\r\n",
    "#import paddle\r\n",
    "os.environ['CUDA_VISIBLE_DEVICES'] = '0,1'\r\n",
    "#paddle.set_device('gpu:0')\r\n",
    "\r\n",
    "\r\n",
    "# 定义训练和验证时的transforms\r\n",
    "train_transforms = transforms.Compose([\r\n",
    "    transforms.RandomHorizontalFlip(),\r\n",
    "    transforms.RandomVerticalFlip(),\r\n",
    "    transforms.Resize(target_size=300),\r\n",
    "    transforms.RandomPaddingCrop(crop_size=256),\r\n",
    "    transforms.RandomBlur(prob=0.02),\r\n",
    "    transforms.RandomRotate(rotate_range=15),\r\n",
    "    transforms.RandomDistort(brightness_range=0.1, contrast_range=0.1, saturation_range=0.1, hue_prob=0),\r\n",
    "    transforms.Normalize()\r\n",
    "])\r\n",
    "eval_transforms = transforms.Compose([\r\n",
    "    transforms.Resize(256),\r\n",
    "    transforms.Normalize()\r\n",
    "])\r\n",
    "\r\n",
    "\r\n",
    "\r\n",
    "datas = []\r\n",
    "image_base = 'img_train'   # 训练集原图路径\r\n",
    "annos_base = 'lab_train'   # 训练集标签路径\r\n",
    "\r\n",
    "# 读取原图文件名\r\n",
    "ids_ = [v.split('.')[0] for v in os.listdir(image_base)]\r\n",
    "\r\n",
    "# 将训练集的图像集和标签路径写入datas中\r\n",
    "for id_ in ids_:\r\n",
    "    img_pt0 = os.path.join(image_base, '{}.jpg'.format(id_))\r\n",
    "    img_pt1 = os.path.join(annos_base, '{}.png'.format(id_))\r\n",
    "    datas.append((img_pt0.replace('/home/aistudio', ''), img_pt1.replace('/home/aistudio', '')))\r\n",
    "    if os.path.exists(img_pt0) and os.path.exists(img_pt1):\r\n",
    "        pass\r\n",
    "    else:\r\n",
    "        raise \"path invalid!\"\r\n",
    "\r\n",
    "# 打印datas的长度和具体存储例子\r\n",
    "#print('total:', len(datas))\r\n",
    "#print(datas[0][0])\r\n",
    "#print(datas[0][1])\r\n",
    "#print(datas[10][:])\r\n",
    "\r\n",
    "\r\n",
    "labels = ['建筑', '耕地', '林地',  '其他']\r\n",
    "\r\n",
    "# 将labels写入标签文件\r\n",
    "with open('labels.txt', 'w') as f:\r\n",
    "    for v in labels:\r\n",
    "        f.write(v+'\\n')\r\n",
    "\r\n",
    "# 随机打乱datas\r\n",
    "np.random.seed(5)\r\n",
    "np.random.shuffle(datas)\r\n",
    "\r\n",
    "# 验证集与训练集的划分，0.05表示5%为训练集，95%为训练集\r\n",
    "split_num = int(0.05*len(datas))\r\n",
    "\r\n",
    "# 划分训练集和验证集\r\n",
    "train_data = datas[:-split_num]\r\n",
    "valid_data = datas[-split_num:]\r\n",
    "\r\n",
    "# 写入训练集list\r\n",
    "with open('train_list.txt', 'w') as f:\r\n",
    "    for img, lbl in train_data:\r\n",
    "        f.write(img + ' ' + lbl + '\\n')\r\n",
    "\r\n",
    "# 写入验证集list\r\n",
    "with open('valid_list.txt', 'w') as f:\r\n",
    "    for img, lbl in valid_data:\r\n",
    "        f.write(img + ' ' + lbl + '\\n')\r\n",
    "\r\n",
    "# 打印训练集和测试集大小\r\n",
    "#print('train:', len(train_data))\r\n",
    "#print('valid:', len(valid_data))\r\n",
    "\r\n",
    "data_dir = './'\r\n",
    "\r\n",
    "# 定义训练和验证数据集\r\n",
    "train_dataset = pdx.datasets.SegDataset(\r\n",
    "    data_dir=data_dir,                # 数据集路径\r\n",
    "    file_list='train_list.txt',       # 训练集图片文件list路径\r\n",
    "    label_list='labels.txt',          # 训练集标签文件list路径\r\n",
    "    transforms=train_transforms,      # train_transforms\r\n",
    "    shuffle=True)                     # 数据集是否打乱\r\n",
    "    \r\n",
    "eval_dataset = pdx.datasets.SegDataset(\r\n",
    "    data_dir=data_dir,                # 数据集路径\r\n",
    "    file_list='valid_list.txt',       # 验证集图片文件list路径\r\n",
    "    label_list='labels.txt',          # 验证集标签文件list路径\r\n",
    "    transforms=eval_transforms)       # eval_transforms\r\n",
    "\r\n",
    "    # 分割类别数\r\n",
    "num_classes = len(train_dataset.labels)\r\n",
    "\r\n",
    "# 构建DeepLabv3p分割器\r\n",
    "model = pdx.seg.DeepLabv3p(\r\n",
    "    num_classes=num_classes,  backbone='Xception65', use_bce_loss=False\r\n",
    ")\r\n",
    "\r\n",
    "# 模型训练\r\n",
    "model.train(\r\n",
    "    num_epochs=10,                 # 训练迭代轮数\r\n",
    "    train_dataset=train_dataset,  # 训练集读取\r\n",
    "    train_batch_size=32,           # 训练时批处理图片数\r\n",
    "    eval_dataset=eval_dataset,    # 验证集读取\r\n",
    "    learning_rate=0.0016,         # 学习率\r\n",
    "    save_interval_epochs=1,       # 保存模型间隔轮次  \r\n",
    "    save_dir='work/output/deeplab',    # 模型保存路径\r\n",
    "    log_interval_steps=200,       # 日志打印间隔\r\n",
    "    pretrain_weights='work/output/deeplab/best_model')  #加载预训练模型\r\n",
    "\r\n",
    "    # 加载模型\r\n",
    "model = pdx.load_model('work/output/deeplab/best_model')\r\n",
    "\r\n",
    "# 模型评估\r\n",
    "model.evaluate(eval_dataset, batch_size=1, epoch_id=None, return_details=False)\r\n",
    "\r\n",
    "\r\n",
    "\r\n",
    "from tqdm import tqdm\r\n",
    "import cv2\r\n",
    "import os\r\n",
    "\r\n",
    "test_base = 'img_testA/'    # 测试集路径\r\n",
    "out_base = 'result/'        # 预测结果保存路径\r\n",
    "\r\n",
    "# 是否存在结果保存路径，如不存在，则创建该路径\r\n",
    "if not os.path.exists(out_base):\r\n",
    "    os.makedirs(out_base)\r\n",
    "\r\n",
    "# 模型预测并保存预测图片\r\n",
    "for im in tqdm(os.listdir(test_base)):\r\n",
    "    if not im.endswith('.jpg'):\r\n",
    "        continue\r\n",
    "    pt = test_base + im\r\n",
    "    result = model.predict(pt)\r\n",
    "    cv2.imwrite(out_base+im.replace('jpg', 'png'), result['label_map'])"
   ]
  }
 ],
 "metadata": {
  "kernelspec": {
   "display_name": "PaddlePaddle 2.0.0b0 (Python 3.5)",
   "language": "python",
   "name": "py35-paddle1.2.0"
  },
  "language_info": {
   "codemirror_mode": {
    "name": "ipython",
    "version": 3
   },
   "file_extension": ".py",
   "mimetype": "text/x-python",
   "name": "python",
   "nbconvert_exporter": "python",
   "pygments_lexer": "ipython3",
   "version": "3.7.4"
  }
 },
 "nbformat": 4,
 "nbformat_minor": 1
}
